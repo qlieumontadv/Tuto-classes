{
 "cells": [
  {
   "cell_type": "markdown",
   "metadata": {
    "heading_collapsed": true
   },
   "source": [
    "# Init"
   ]
  },
  {
   "cell_type": "code",
   "execution_count": 4,
   "metadata": {
    "ExecuteTime": {
     "end_time": "2020-08-17T08:26:03.904530Z",
     "start_time": "2020-08-17T08:26:03.901857Z"
    },
    "hidden": true
   },
   "outputs": [
    {
     "data": {
      "text/html": [
       "<style>.container { width:90% !important; }</style>"
      ],
      "text/plain": [
       "<IPython.core.display.HTML object>"
      ]
     },
     "metadata": {},
     "output_type": "display_data"
    }
   ],
   "source": [
    "from IPython.core.display import display, HTML\n",
    "display(HTML(\"<style>.container { width:90% !important; }</style>\"))"
   ]
  },
  {
   "cell_type": "code",
   "execution_count": 5,
   "metadata": {
    "ExecuteTime": {
     "end_time": "2020-08-17T08:26:04.431207Z",
     "start_time": "2020-08-17T08:26:04.424256Z"
    },
    "hidden": true
   },
   "outputs": [],
   "source": [
    "def dec(func):\n",
    "    def wrapper(*args, **kwargs):\n",
    "        print()\n",
    "        return func(*args, **kwargs)\n",
    "    return wrapper"
   ]
  },
  {
   "cell_type": "markdown",
   "metadata": {
    "slideshow": {
     "slide_type": "slide"
    }
   },
   "source": [
    "# Un exemple simple"
   ]
  },
  {
   "cell_type": "markdown",
   "metadata": {},
   "source": [
    "## Defs"
   ]
  },
  {
   "cell_type": "code",
   "execution_count": 6,
   "metadata": {
    "ExecuteTime": {
     "end_time": "2020-08-17T08:26:19.129392Z",
     "start_time": "2020-08-17T08:26:19.125678Z"
    },
    "slideshow": {
     "slide_type": "subslide"
    }
   },
   "outputs": [],
   "source": [
    "@dec\n",
    "def goodbye(name):\n",
    "    print(f\"Goodbye {name}\")\n",
    "    print(f\"Bye bye {name}\")\n",
    "\n",
    "@dec\n",
    "def hello(name):\n",
    "    print(f\"Hello {name}\")\n",
    "    print(f\"Hi {name}\")\n",
    "\n",
    "@dec\n",
    "def display_age(name, age):\n",
    "    print(f'{name} is {age} years old.')\n",
    "\n",
    "@dec\n",
    "def birthday(name, age):\n",
    "    age += 1\n",
    "    print(f'Happy birthday {name} !')\n",
    "    print(f'You are now {age} years old.')\n",
    "\n",
    "@dec\n",
    "def log_in(name, password):\n",
    "    print(f'Login: {name}')\n",
    "    print(f'Password: {password}')\n",
    "\n",
    "@dec\n",
    "def log_out(name):\n",
    "    print(f'User {name} logged out.')"
   ]
  },
  {
   "cell_type": "markdown",
   "metadata": {},
   "source": [
    "## Utilisation"
   ]
  },
  {
   "cell_type": "code",
   "execution_count": 2,
   "metadata": {
    "ExecuteTime": {
     "end_time": "2020-08-17T08:02:37.210897Z",
     "start_time": "2020-08-17T08:02:37.195779Z"
    },
    "slideshow": {
     "slide_type": "slide"
    }
   },
   "outputs": [
    {
     "name": "stdout",
     "output_type": "stream",
     "text": [
      "\n",
      "Login: John\n",
      "Password: abcd1234\n",
      "\n",
      "Hello John\n",
      "Hi John\n",
      "\n",
      "John is 20 years old.\n",
      "\n",
      "Happy birthday John !\n",
      "You are now 21 years old.\n",
      "\n",
      "John is 20 years old.\n",
      "\n",
      "Goodbye John\n",
      "Bye bye John\n",
      "\n",
      "User John logged out.\n"
     ]
    }
   ],
   "source": [
    "user1 = \"John\"\n",
    "john_age = 20\n",
    "john_pwd = \"abcd1234\"\n",
    "\n",
    "log_in(user1, john_pwd)\n",
    "hello(user1)\n",
    "display_age(user1, john_age)\n",
    "birthday(user1, john_age)\n",
    "display_age(user1, john_age)\n",
    "goodbye(user1)\n",
    "log_out(user1)"
   ]
  },
  {
   "cell_type": "code",
   "execution_count": null,
   "metadata": {
    "ExecuteTime": {
     "end_time": "2020-08-17T07:50:15.546459Z",
     "start_time": "2020-08-17T07:50:15.541964Z"
    },
    "slideshow": {
     "slide_type": "slide"
    }
   },
   "outputs": [],
   "source": [
    "user2 = \"Kevin\"\n",
    "kevin_age = 15\n",
    "kevin_pwd = \"SecurePassword\""
   ]
  },
  {
   "cell_type": "markdown",
   "metadata": {
    "slideshow": {
     "slide_type": "slide"
    }
   },
   "source": [
    "# Passage en classes"
   ]
  },
  {
   "cell_type": "markdown",
   "metadata": {},
   "source": [
    "## Defs"
   ]
  },
  {
   "cell_type": "code",
   "execution_count": 3,
   "metadata": {
    "ExecuteTime": {
     "end_time": "2020-08-17T08:02:41.957623Z",
     "start_time": "2020-08-17T08:02:41.942148Z"
    },
    "slideshow": {
     "slide_type": "subslide"
    }
   },
   "outputs": [],
   "source": [
    "class BaseUser:\n",
    "    @dec\n",
    "    def hello(self):\n",
    "        print(f\"Hello {self.name}\")\n",
    "        print(f\"Hi {self.name}\")\n",
    "\n",
    "    @dec\n",
    "    def display_age(self):\n",
    "        print(f'{self.name} is {self.age} years old.')\n",
    "\n",
    "    @dec\n",
    "    def birthday(self):\n",
    "        self.age += 1\n",
    "        print(f'Happy birthday {self.name} !')\n",
    "        print(f'You are now {self.age} years old.')\n",
    "\n",
    "    @dec\n",
    "    def log_in(self, password):\n",
    "        print(f'Login: {self.name}')\n",
    "        print(f'Password: {password}')\n",
    "        \n",
    "    @dec\n",
    "    def goodbye(self):\n",
    "        print(f\"Goodbye {self.name}\")\n",
    "        print(f\"Bye bye {self.name}\")\n",
    "\n",
    "    @dec\n",
    "    def log_out(self):v\n",
    "        print(f'User {self.name} logged out.')"
   ]
  },
  {
   "cell_type": "code",
   "execution_count": 4,
   "metadata": {
    "ExecuteTime": {
     "end_time": "2020-08-17T08:02:43.406363Z",
     "start_time": "2020-08-17T08:02:43.390383Z"
    },
    "slideshow": {
     "slide_type": "slide"
    }
   },
   "outputs": [
    {
     "name": "stdout",
     "output_type": "stream",
     "text": [
      "\n",
      "Login: John\n",
      "Password: abcd1234\n",
      "\n",
      "Hello John\n",
      "Hi John\n",
      "\n",
      "John is 20 years old.\n",
      "\n",
      "Happy birthday John !\n",
      "You are now 21 years old.\n",
      "\n",
      "John is 21 years old.\n",
      "\n",
      "Goodbye John\n",
      "Bye bye John\n",
      "\n",
      "User John logged out.\n"
     ]
    }
   ],
   "source": [
    "john = BaseUser()\n",
    "john.name = \"John\"\n",
    "john.age = 20\n",
    "\n",
    "john_pwd = \"abcd1234\"\n",
    "\n",
    "john.log_in(john_pwd)\n",
    "john.hello()\n",
    "john.display_age()\n",
    "john.birthday()\n",
    "john.display_age()\n",
    "john.goodbye()\n",
    "john.log_out()"
   ]
  },
  {
   "cell_type": "code",
   "execution_count": 5,
   "metadata": {
    "ExecuteTime": {
     "end_time": "2020-08-17T08:02:45.844210Z",
     "start_time": "2020-08-17T08:02:45.837752Z"
    },
    "slideshow": {
     "slide_type": "slide"
    }
   },
   "outputs": [],
   "source": [
    "user2 = \"Kevin\"\n",
    "kevin_age = 15\n",
    "kevin_pwd = \"SecurePassword\""
   ]
  },
  {
   "cell_type": "markdown",
   "metadata": {
    "slideshow": {
     "slide_type": "slide"
    }
   },
   "source": [
    "# Passage en classes (propre)"
   ]
  },
  {
   "cell_type": "markdown",
   "metadata": {},
   "source": [
    "## Defs"
   ]
  },
  {
   "cell_type": "code",
   "execution_count": 6,
   "metadata": {
    "ExecuteTime": {
     "end_time": "2020-08-17T08:02:47.119248Z",
     "start_time": "2020-08-17T08:02:47.116984Z"
    },
    "slideshow": {
     "slide_type": "subslide"
    }
   },
   "outputs": [],
   "source": [
    "CURRENT_YEAR = 2020\n",
    "\n",
    "def get_age(birth_year):\n",
    "    return CURRENT_YEAR - birth_year\n",
    "\n",
    "\n",
    "class User(BaseUser):\n",
    "    def __init__(self, name, birth_year):\n",
    "        self.name = name\n",
    "        self.age = get_age(birth_year)\n"
   ]
  },
  {
   "cell_type": "code",
   "execution_count": 8,
   "metadata": {
    "ExecuteTime": {
     "end_time": "2020-08-17T08:03:02.481540Z",
     "start_time": "2020-08-17T08:03:02.468809Z"
    },
    "slideshow": {
     "slide_type": "slide"
    }
   },
   "outputs": [
    {
     "name": "stdout",
     "output_type": "stream",
     "text": [
      "\n",
      "Login: John\n",
      "Password: abcd1234\n",
      "\n",
      "Hello John\n",
      "Hi John\n",
      "\n",
      "John is 20 years old.\n",
      "\n",
      "Happy birthday John !\n",
      "You are now 21 years old.\n",
      "\n",
      "John is 21 years old.\n",
      "\n",
      "Goodbye John\n",
      "Bye bye John\n",
      "\n",
      "User John logged out.\n"
     ]
    }
   ],
   "source": [
    "john = User(\"John\", 2000)\n",
    "\n",
    "john_pwd = \"abcd1234\"\n",
    "\n",
    "john.log_in(john_pwd)\n",
    "john.hello()\n",
    "john.display_age()\n",
    "john.birthday()\n",
    "john.display_age()\n",
    "john.goodbye()\n",
    "john.log_out()"
   ]
  },
  {
   "cell_type": "code",
   "execution_count": null,
   "metadata": {
    "ExecuteTime": {
     "end_time": "2020-08-17T08:00:36.378240Z",
     "start_time": "2020-08-17T08:00:36.371954Z"
    },
    "slideshow": {
     "slide_type": "slide"
    }
   },
   "outputs": [],
   "source": [
    "user2 = \"Kevin\"\n",
    "kevin_age = 15\n",
    "kevin_pwd = \"SecurePassword\""
   ]
  },
  {
   "cell_type": "markdown",
   "metadata": {
    "slideshow": {
     "slide_type": "slide"
    }
   },
   "source": [
    "# Encore mieux !"
   ]
  },
  {
   "cell_type": "markdown",
   "metadata": {},
   "source": [
    "## Defs"
   ]
  },
  {
   "cell_type": "code",
   "execution_count": 9,
   "metadata": {
    "ExecuteTime": {
     "end_time": "2020-08-17T08:03:19.068754Z",
     "start_time": "2020-08-17T08:03:19.055261Z"
    },
    "slideshow": {
     "slide_type": "subslide"
    }
   },
   "outputs": [],
   "source": [
    "class BetterUser(User):\n",
    "    \n",
    "    def log_in(self, *agrs, **kwargs):\n",
    "        super().log_in(*agrs, **kwargs)\n",
    "        self.hello()\n",
    "    \n",
    "    def log_out(self, *agrs, **kwargs):\n",
    "        super().log_out(*agrs, **kwargs)\n",
    "        self.goodbye()\n",
    "   \n",
    "    def __enter__(self):\n",
    "        if hasattr(self, \"password\"):\n",
    "            pwd = self.password\n",
    "        else:\n",
    "            pwd = input(\"Password ?\")\n",
    "        self.log_in(pwd)\n",
    "        return self\n",
    "    \n",
    "    def __exit__(self, *args, **kwargs):\n",
    "        self.log_out()"
   ]
  },
  {
   "cell_type": "code",
   "execution_count": 10,
   "metadata": {
    "ExecuteTime": {
     "end_time": "2020-08-17T08:03:25.397039Z",
     "start_time": "2020-08-17T08:03:23.326956Z"
    },
    "slideshow": {
     "slide_type": "slide"
    }
   },
   "outputs": [
    {
     "name": "stdout",
     "output_type": "stream",
     "text": [
      "Password ?aaa\n",
      "\n",
      "Login: John\n",
      "Password: aaa\n",
      "\n",
      "Hello John\n",
      "Hi John\n",
      "\n",
      "John is 20 years old.\n",
      "\n",
      "Happy birthday John !\n",
      "You are now 21 years old.\n",
      "\n",
      "John is 21 years old.\n",
      "\n",
      "User John logged out.\n",
      "\n",
      "Goodbye John\n",
      "Bye bye John\n"
     ]
    }
   ],
   "source": [
    "john = BetterUser(\"John\", 2000)\n",
    "\n",
    "john_pwd = \"abcd1234\"\n",
    "\n",
    "with john:\n",
    "    john.display_age()\n",
    "    john.birthday()\n",
    "    john.display_age()"
   ]
  },
  {
   "cell_type": "markdown",
   "metadata": {
    "slideshow": {
     "slide_type": "slide"
    }
   },
   "source": [
    "# Exemple plus complexe"
   ]
  },
  {
   "cell_type": "markdown",
   "metadata": {},
   "source": [
    "## Defs"
   ]
  },
  {
   "cell_type": "code",
   "execution_count": 15,
   "metadata": {
    "ExecuteTime": {
     "end_time": "2020-08-17T08:12:03.542241Z",
     "start_time": "2020-08-17T08:12:03.524484Z"
    },
    "slideshow": {
     "slide_type": "subslide"
    }
   },
   "outputs": [],
   "source": [
    "class Regress_func:\n",
    "    act: bool = True\n",
    "    \n",
    "    @classmethod\n",
    "    def get_all(cls):\n",
    "        return [reg() for reg in cls.__subclasses__() if reg.act]\n",
    "    \n",
    "    def __call__(self, *args, **kwargs):\n",
    "        raise NotImplementedError('Abstract class')\n",
    "\n",
    "class deg0(Regress_func):\n",
    "    def __call__(self, x, a):\n",
    "        return a\n",
    "\n",
    "\n",
    "class deg1(Regress_func):\n",
    "    def __call__(self, x, a, b):\n",
    "        return a * x + b\n",
    "\n",
    "\n",
    "class deg2(Regress_func):\n",
    "    def __call__(self, x, a, b, c):\n",
    "        return a * x ** 2 + b * x + c\n",
    "\n",
    "\n",
    "class deg2_0(Regress_func):\n",
    "    def __call__(self, x, a, b, c):\n",
    "        return a * x ** 2 + b * x\n",
    "\n",
    "\n",
    "class deg3(Regress_func):\n",
    "    def __call__(self, x, a, b, c, d):\n",
    "        return a * x ** 3 + b * x ** 2 + c * x + d\n",
    "\n",
    "\n",
    "class inv(Regress_func):\n",
    "    def __call__(self, x, a, b, c, d):\n",
    "        return (a * x + b) / (c * x + d)"
   ]
  },
  {
   "cell_type": "code",
   "execution_count": 22,
   "metadata": {
    "ExecuteTime": {
     "end_time": "2020-08-17T08:13:12.874004Z",
     "start_time": "2020-08-17T08:13:12.866353Z"
    },
    "cell_style": "center",
    "slideshow": {
     "slide_type": "subslide"
    }
   },
   "outputs": [
    {
     "name": "stdout",
     "output_type": "stream",
     "text": [
      "<__main__.deg0 object at 0x7f599202e160>\n",
      "<__main__.deg1 object at 0x7f599202e358>\n",
      "<__main__.deg2 object at 0x7f599202ecf8>\n",
      "<__main__.deg2_0 object at 0x7f599202ec50>\n",
      "<__main__.deg3 object at 0x7f599202ee80>\n",
      "<__main__.inv object at 0x7f599202ef98>\n"
     ]
    }
   ],
   "source": [
    "for f in Regress_func.get_all():\n",
    "    print(f)"
   ]
  },
  {
   "cell_type": "code",
   "execution_count": null,
   "metadata": {},
   "outputs": [],
   "source": []
  }
 ],
 "metadata": {
  "kernelspec": {
   "display_name": "Python 3",
   "language": "python",
   "name": "python3"
  },
  "language_info": {
   "codemirror_mode": {
    "name": "ipython",
    "version": 3
   },
   "file_extension": ".py",
   "mimetype": "text/x-python",
   "name": "python",
   "nbconvert_exporter": "python",
   "pygments_lexer": "ipython3",
   "version": "3.6.9"
  },
  "latex_envs": {
   "LaTeX_envs_menu_present": true,
   "autoclose": false,
   "autocomplete": true,
   "bibliofile": "biblio.bib",
   "cite_by": "apalike",
   "current_citInitial": 1,
   "eqLabelWithNumbers": true,
   "eqNumInitial": 1,
   "hotkeys": {
    "equation": "Ctrl-E",
    "itemize": "Ctrl-I"
   },
   "labels_anchors": false,
   "latex_user_defs": false,
   "report_style_numbering": false,
   "user_envs_cfg": false
  },
  "toc": {
   "base_numbering": 1,
   "nav_menu": {},
   "number_sections": true,
   "sideBar": true,
   "skip_h1_title": false,
   "title_cell": "Table of Contents",
   "title_sidebar": "Contents",
   "toc_cell": false,
   "toc_position": {},
   "toc_section_display": true,
   "toc_window_display": false
  },
  "varInspector": {
   "cols": {
    "lenName": 16,
    "lenType": 16,
    "lenVar": 40
   },
   "kernels_config": {
    "python": {
     "delete_cmd_postfix": "",
     "delete_cmd_prefix": "del ",
     "library": "var_list.py",
     "varRefreshCmd": "print(var_dic_list())"
    },
    "r": {
     "delete_cmd_postfix": ") ",
     "delete_cmd_prefix": "rm(",
     "library": "var_list.r",
     "varRefreshCmd": "cat(var_dic_list()) "
    }
   },
   "types_to_exclude": [
    "module",
    "function",
    "builtin_function_or_method",
    "instance",
    "_Feature"
   ],
   "window_display": false
  }
 },
 "nbformat": 4,
 "nbformat_minor": 4
}
