{
 "cells": [
  {
   "cell_type": "markdown",
   "metadata": {
    "heading_collapsed": true
   },
   "source": [
    "# Init"
   ]
  },
  {
   "cell_type": "code",
   "execution_count": 41,
   "metadata": {
    "ExecuteTime": {
     "end_time": "2020-08-19T09:14:54.064195Z",
     "start_time": "2020-08-19T09:14:54.061609Z"
    },
    "hidden": true
   },
   "outputs": [
    {
     "data": {
      "text/html": [
       "<style>.container { width:90% !important; }</style>"
      ],
      "text/plain": [
       "<IPython.core.display.HTML object>"
      ]
     },
     "metadata": {},
     "output_type": "display_data"
    }
   ],
   "source": [
    "from IPython.core.display import display, HTML\n",
    "display(HTML(\"<style>.container { width:90% !important; }</style>\"))"
   ]
  },
  {
   "cell_type": "code",
   "execution_count": 2,
   "metadata": {
    "ExecuteTime": {
     "end_time": "2020-08-19T08:58:51.145663Z",
     "start_time": "2020-08-19T08:58:51.138696Z"
    },
    "hidden": true
   },
   "outputs": [],
   "source": [
    "def dec(func):\n",
    "    def wrapper(*args, **kwargs):\n",
    "        print()\n",
    "        return func(*args, **kwargs)\n",
    "    return wrapper"
   ]
  },
  {
   "cell_type": "markdown",
   "metadata": {
    "heading_collapsed": true,
    "slideshow": {
     "slide_type": "slide"
    }
   },
   "source": [
    "# Un exemple simple"
   ]
  },
  {
   "cell_type": "markdown",
   "metadata": {
    "hidden": true
   },
   "source": [
    "## Defs"
   ]
  },
  {
   "cell_type": "code",
   "execution_count": 3,
   "metadata": {
    "ExecuteTime": {
     "end_time": "2020-08-19T08:58:52.340025Z",
     "start_time": "2020-08-19T08:58:52.325836Z"
    },
    "hidden": true,
    "slideshow": {
     "slide_type": "subslide"
    }
   },
   "outputs": [],
   "source": [
    "@dec\n",
    "def goodbye(name):\n",
    "    print(f\"Goodbye {name}\")\n",
    "    print(f\"Bye bye {name}\")\n",
    "\n",
    "@dec\n",
    "def hello(name):\n",
    "    print(f\"Hello {name}\")\n",
    "    print(f\"Hi {name}\")\n",
    "\n",
    "@dec\n",
    "def display_age(name, age):\n",
    "    print(f'{name} is {age} years old.')\n",
    "\n",
    "@dec\n",
    "def birthday(name, age):\n",
    "    age += 1\n",
    "    print(f'Happy birthday {name} !')\n",
    "    print(f'You are now {age} years old.')\n",
    "\n",
    "@dec\n",
    "def log_in(name, password):\n",
    "    print(f'Login: {name}')\n",
    "    print(f'Password: {password}')\n",
    "\n",
    "@dec\n",
    "def log_out(name):\n",
    "    print(f'User {name} logged out.')"
   ]
  },
  {
   "cell_type": "markdown",
   "metadata": {
    "hidden": true
   },
   "source": [
    "## Utilisation"
   ]
  },
  {
   "cell_type": "code",
   "execution_count": 4,
   "metadata": {
    "ExecuteTime": {
     "end_time": "2020-08-19T08:58:53.218334Z",
     "start_time": "2020-08-19T08:58:53.203308Z"
    },
    "hidden": true,
    "slideshow": {
     "slide_type": "slide"
    }
   },
   "outputs": [
    {
     "name": "stdout",
     "output_type": "stream",
     "text": [
      "\n",
      "Login: John\n",
      "Password: abcd1234\n",
      "\n",
      "Hello John\n",
      "Hi John\n",
      "\n",
      "John is 20 years old.\n",
      "\n",
      "Happy birthday John !\n",
      "You are now 21 years old.\n",
      "\n",
      "John is 20 years old.\n",
      "\n",
      "Goodbye John\n",
      "Bye bye John\n",
      "\n",
      "User John logged out.\n"
     ]
    }
   ],
   "source": [
    "user1 = \"John\"\n",
    "john_age = 20\n",
    "john_pwd = \"abcd1234\"\n",
    "\n",
    "log_in(user1, john_pwd)\n",
    "hello(user1)\n",
    "display_age(user1, john_age)\n",
    "birthday(user1, john_age)\n",
    "display_age(user1, john_age)\n",
    "goodbye(user1)\n",
    "log_out(user1)"
   ]
  },
  {
   "cell_type": "code",
   "execution_count": 5,
   "metadata": {
    "ExecuteTime": {
     "end_time": "2020-08-19T08:58:53.431982Z",
     "start_time": "2020-08-19T08:58:53.428342Z"
    },
    "hidden": true,
    "slideshow": {
     "slide_type": "slide"
    }
   },
   "outputs": [],
   "source": [
    "user2 = \"Kevin\"\n",
    "kevin_age = 15\n",
    "kevin_pwd = \"SecurePassword\""
   ]
  },
  {
   "cell_type": "markdown",
   "metadata": {
    "heading_collapsed": true,
    "slideshow": {
     "slide_type": "slide"
    }
   },
   "source": [
    "# Passage en classes"
   ]
  },
  {
   "cell_type": "markdown",
   "metadata": {
    "hidden": true
   },
   "source": [
    "## Defs"
   ]
  },
  {
   "cell_type": "code",
   "execution_count": 6,
   "metadata": {
    "ExecuteTime": {
     "end_time": "2020-08-19T08:58:54.132177Z",
     "start_time": "2020-08-19T08:58:54.117270Z"
    },
    "hidden": true,
    "slideshow": {
     "slide_type": "subslide"
    }
   },
   "outputs": [],
   "source": [
    "class BaseUser:\n",
    "    @dec\n",
    "    def hello(self):\n",
    "        print(f\"Hello {self.name}\")\n",
    "        print(f\"Hi {self.name}\")\n",
    "\n",
    "    @dec\n",
    "    def display_age(self):\n",
    "        print(f'{self.name} is {self.age} years old.')\n",
    "\n",
    "    @dec\n",
    "    def birthday(self):\n",
    "        self.age += 1\n",
    "        print(f'Happy birthday {self.name} !')\n",
    "        print(f'You are now {self.age} years old.')\n",
    "\n",
    "    @dec\n",
    "    def log_in(self, password):\n",
    "        print(f'Login: {self.name}')\n",
    "        print(f'Password: {password}')\n",
    "        \n",
    "    @dec\n",
    "    def goodbye(self):\n",
    "        print(f\"Goodbye {self.name}\")\n",
    "        print(f\"Bye bye {self.name}\")\n",
    "\n",
    "    @dec\n",
    "    def log_out(self):\n",
    "        print(f'User {self.name} logged out.')"
   ]
  },
  {
   "cell_type": "markdown",
   "metadata": {
    "hidden": true
   },
   "source": [
    "## Utilisation"
   ]
  },
  {
   "cell_type": "code",
   "execution_count": 7,
   "metadata": {
    "ExecuteTime": {
     "end_time": "2020-08-19T08:58:54.565523Z",
     "start_time": "2020-08-19T08:58:54.560867Z"
    },
    "hidden": true,
    "slideshow": {
     "slide_type": "slide"
    }
   },
   "outputs": [
    {
     "name": "stdout",
     "output_type": "stream",
     "text": [
      "\n",
      "Login: John\n",
      "Password: abcd1234\n",
      "\n",
      "Hello John\n",
      "Hi John\n",
      "\n",
      "John is 20 years old.\n",
      "\n",
      "Happy birthday John !\n",
      "You are now 21 years old.\n",
      "\n",
      "John is 21 years old.\n",
      "\n",
      "Goodbye John\n",
      "Bye bye John\n",
      "\n",
      "User John logged out.\n"
     ]
    }
   ],
   "source": [
    "john = BaseUser()\n",
    "john.name = \"John\"\n",
    "john.age = 20\n",
    "\n",
    "john_pwd = \"abcd1234\"\n",
    "\n",
    "john.log_in(john_pwd)\n",
    "john.hello()\n",
    "john.display_age()\n",
    "john.birthday()\n",
    "john.display_age()\n",
    "john.goodbye()\n",
    "john.log_out()"
   ]
  },
  {
   "cell_type": "code",
   "execution_count": 8,
   "metadata": {
    "ExecuteTime": {
     "end_time": "2020-08-19T08:58:54.763640Z",
     "start_time": "2020-08-19T08:58:54.760885Z"
    },
    "hidden": true,
    "slideshow": {
     "slide_type": "slide"
    }
   },
   "outputs": [],
   "source": [
    "user2 = \"Kevin\"\n",
    "kevin_age = 15\n",
    "kevin_pwd = \"SecurePassword\""
   ]
  },
  {
   "cell_type": "markdown",
   "metadata": {
    "heading_collapsed": true,
    "slideshow": {
     "slide_type": "slide"
    }
   },
   "source": [
    "# Passage en classes (propre)"
   ]
  },
  {
   "cell_type": "markdown",
   "metadata": {
    "hidden": true
   },
   "source": [
    "## Defs"
   ]
  },
  {
   "cell_type": "code",
   "execution_count": 9,
   "metadata": {
    "ExecuteTime": {
     "end_time": "2020-08-19T08:58:55.965360Z",
     "start_time": "2020-08-19T08:58:55.956259Z"
    },
    "hidden": true,
    "slideshow": {
     "slide_type": "subslide"
    }
   },
   "outputs": [],
   "source": [
    "CURRENT_YEAR = 2020\n",
    "\n",
    "def get_age(birth_year):\n",
    "    return CURRENT_YEAR - birth_year\n",
    "\n",
    "\n",
    "class User(BaseUser):\n",
    "    def __init__(self, name, birth_year):\n",
    "        self.name = name\n",
    "        self.age = get_age(birth_year)\n"
   ]
  },
  {
   "cell_type": "markdown",
   "metadata": {
    "hidden": true
   },
   "source": [
    "## Utilisation"
   ]
  },
  {
   "cell_type": "code",
   "execution_count": 10,
   "metadata": {
    "ExecuteTime": {
     "end_time": "2020-08-19T08:58:56.543892Z",
     "start_time": "2020-08-19T08:58:56.532922Z"
    },
    "hidden": true,
    "slideshow": {
     "slide_type": "slide"
    }
   },
   "outputs": [
    {
     "name": "stdout",
     "output_type": "stream",
     "text": [
      "\n",
      "Login: John\n",
      "Password: abcd1234\n",
      "\n",
      "Hello John\n",
      "Hi John\n",
      "\n",
      "John is 20 years old.\n",
      "\n",
      "Happy birthday John !\n",
      "You are now 21 years old.\n",
      "\n",
      "John is 21 years old.\n",
      "\n",
      "Goodbye John\n",
      "Bye bye John\n",
      "\n",
      "User John logged out.\n"
     ]
    }
   ],
   "source": [
    "john = User(\"John\", 2000)\n",
    "\n",
    "john_pwd = \"abcd1234\"\n",
    "\n",
    "john.log_in(john_pwd)\n",
    "john.hello()\n",
    "john.display_age()\n",
    "john.birthday()\n",
    "john.display_age()\n",
    "john.goodbye()\n",
    "john.log_out()"
   ]
  },
  {
   "cell_type": "code",
   "execution_count": 11,
   "metadata": {
    "ExecuteTime": {
     "end_time": "2020-08-19T08:58:56.759361Z",
     "start_time": "2020-08-19T08:58:56.752733Z"
    },
    "hidden": true,
    "slideshow": {
     "slide_type": "slide"
    }
   },
   "outputs": [],
   "source": [
    "user2 = \"Kevin\"\n",
    "kevin_age = 15\n",
    "kevin_pwd = \"SecurePassword\""
   ]
  },
  {
   "cell_type": "markdown",
   "metadata": {
    "heading_collapsed": true,
    "slideshow": {
     "slide_type": "slide"
    }
   },
   "source": [
    "# Encore mieux !"
   ]
  },
  {
   "cell_type": "markdown",
   "metadata": {
    "hidden": true
   },
   "source": [
    "## Defs"
   ]
  },
  {
   "cell_type": "code",
   "execution_count": 12,
   "metadata": {
    "ExecuteTime": {
     "end_time": "2020-08-19T08:58:57.842866Z",
     "start_time": "2020-08-19T08:58:57.829020Z"
    },
    "hidden": true,
    "slideshow": {
     "slide_type": "subslide"
    }
   },
   "outputs": [],
   "source": [
    "class BetterUser(User):\n",
    "    \n",
    "    def log_in(self, *agrs, **kwargs):\n",
    "        super().log_in(*agrs, **kwargs)\n",
    "        self.hello()\n",
    "    \n",
    "    def log_out(self, *agrs, **kwargs):\n",
    "        super().log_out(*agrs, **kwargs)\n",
    "        self.goodbye()\n",
    "   \n",
    "    def __enter__(self):\n",
    "        if hasattr(self, \"password\"):\n",
    "            pwd = self.password\n",
    "        else:\n",
    "            pwd = input(\"Password ?\")\n",
    "        self.log_in(pwd)\n",
    "        return self\n",
    "    \n",
    "    def __exit__(self, *args, **kwargs):\n",
    "        self.log_out()"
   ]
  },
  {
   "cell_type": "markdown",
   "metadata": {
    "hidden": true
   },
   "source": [
    "## Utilisation"
   ]
  },
  {
   "cell_type": "code",
   "execution_count": 13,
   "metadata": {
    "ExecuteTime": {
     "end_time": "2020-08-19T08:58:59.248948Z",
     "start_time": "2020-08-19T08:58:59.044734Z"
    },
    "hidden": true,
    "slideshow": {
     "slide_type": "slide"
    }
   },
   "outputs": [
    {
     "name": "stdout",
     "output_type": "stream",
     "text": [
      "Password ?\n",
      "\n",
      "Login: John\n",
      "Password: \n",
      "\n",
      "Hello John\n",
      "Hi John\n",
      "\n",
      "John is 20 years old.\n",
      "\n",
      "Happy birthday John !\n",
      "You are now 21 years old.\n",
      "\n",
      "John is 21 years old.\n",
      "\n",
      "User John logged out.\n",
      "\n",
      "Goodbye John\n",
      "Bye bye John\n"
     ]
    }
   ],
   "source": [
    "john = BetterUser(\"John\", 2000)\n",
    "\n",
    "john_pwd = \"abcd1234\"\n",
    "\n",
    "with john:\n",
    "    john.display_age()\n",
    "    john.birthday()\n",
    "    john.display_age()"
   ]
  },
  {
   "cell_type": "markdown",
   "metadata": {
    "heading_collapsed": true,
    "slideshow": {
     "slide_type": "slide"
    }
   },
   "source": [
    "# Exemple plus complexe"
   ]
  },
  {
   "cell_type": "markdown",
   "metadata": {
    "hidden": true
   },
   "source": [
    "## Probleme\n",
    "\n",
    "On a de nombreuses fonctions et on veut les faire tourner sur les mêmes données."
   ]
  },
  {
   "cell_type": "code",
   "execution_count": 14,
   "metadata": {
    "ExecuteTime": {
     "end_time": "2020-08-19T08:58:59.915207Z",
     "start_time": "2020-08-19T08:58:59.908730Z"
    },
    "hidden": true
   },
   "outputs": [],
   "source": [
    "data = [[1, 1], [2, 3], [5, 10]]"
   ]
  },
  {
   "cell_type": "code",
   "execution_count": 15,
   "metadata": {
    "ExecuteTime": {
     "end_time": "2020-08-19T08:59:00.121558Z",
     "start_time": "2020-08-19T08:59:00.117867Z"
    },
    "hidden": true
   },
   "outputs": [],
   "source": [
    "def f1(x, y):\n",
    "    return x\n",
    "\n",
    "def f2(x, y):\n",
    "    return x + y\n",
    "\n",
    "\n",
    "def f3(x, y):\n",
    "    return x ** 2 + y ** 2\n",
    "\n",
    "\n",
    "def f4(x, y):\n",
    "    return (y + x) ** 2"
   ]
  },
  {
   "cell_type": "markdown",
   "metadata": {
    "hidden": true
   },
   "source": [
    "### La pire maniere"
   ]
  },
  {
   "cell_type": "code",
   "execution_count": 16,
   "metadata": {
    "ExecuteTime": {
     "end_time": "2020-08-19T08:59:00.603423Z",
     "start_time": "2020-08-19T08:59:00.590009Z"
    },
    "hidden": true
   },
   "outputs": [
    {
     "name": "stdout",
     "output_type": "stream",
     "text": [
      "f*(1, 1)\n",
      "1\n",
      "2\n",
      "2\n",
      "4\n",
      "f*(2, 3)\n",
      "2\n",
      "5\n",
      "13\n",
      "25\n",
      "f*(5, 10)\n",
      "5\n",
      "15\n",
      "125\n",
      "225\n"
     ]
    }
   ],
   "source": [
    "for i, j in data:\n",
    "    print(f\"f*({i}, {j})\")\n",
    "    print(f1(i, j))\n",
    "    print(f2(i, j))\n",
    "    print(f3(i, j))\n",
    "    print(f4(i, j))"
   ]
  },
  {
   "cell_type": "markdown",
   "metadata": {
    "hidden": true
   },
   "source": [
    "### Utiliser une liste"
   ]
  },
  {
   "cell_type": "code",
   "execution_count": 17,
   "metadata": {
    "ExecuteTime": {
     "end_time": "2020-08-19T08:59:02.270492Z",
     "start_time": "2020-08-19T08:59:02.260766Z"
    },
    "hidden": true
   },
   "outputs": [
    {
     "name": "stdout",
     "output_type": "stream",
     "text": [
      "f*(1, 1)\n",
      "f*(2, 3)\n",
      "f*(5, 10)\n"
     ]
    }
   ],
   "source": [
    "all_functs = [...]\n",
    "\n",
    "for i, j in data:\n",
    "    print(f\"f*({i}, {j})\")\n",
    "    for f in all_functs:\n",
    "        ..."
   ]
  },
  {
   "cell_type": "markdown",
   "metadata": {
    "hidden": true
   },
   "source": [
    "## En classes"
   ]
  },
  {
   "cell_type": "code",
   "execution_count": 33,
   "metadata": {
    "ExecuteTime": {
     "end_time": "2020-08-19T09:13:01.408556Z",
     "start_time": "2020-08-19T09:13:01.394867Z"
    },
    "hidden": true,
    "slideshow": {
     "slide_type": "subslide"
    }
   },
   "outputs": [],
   "source": [
    "class Funcs:\n",
    "    pass\n",
    "\n",
    "class f1(Funcs):\n",
    "    def __call__(self, x, y):\n",
    "        return x\n",
    "\n",
    "class f2(Funcs):\n",
    "    def __call__(self, x, y):\n",
    "        return x + y\n",
    "\n",
    "\n",
    "class f3(Funcs):\n",
    "    def __call__(self, x, y):\n",
    "        return x ** 2 + y ** 2\n",
    "\n",
    "\n",
    "class f4(Funcs):\n",
    "    def __call__(self, x, y):\n",
    "        return (y + x) ** 2"
   ]
  },
  {
   "cell_type": "code",
   "execution_count": 37,
   "metadata": {
    "ExecuteTime": {
     "end_time": "2020-08-19T09:13:36.324578Z",
     "start_time": "2020-08-19T09:13:36.311591Z"
    },
    "hidden": true
   },
   "outputs": [
    {
     "name": "stdout",
     "output_type": "stream",
     "text": [
      "f*(1, 1)\n",
      "1\n",
      "2\n",
      "2\n",
      "4\n",
      "f*(2, 3)\n",
      "2\n",
      "5\n",
      "13\n",
      "25\n",
      "f*(5, 10)\n",
      "5\n",
      "15\n",
      "125\n",
      "225\n"
     ]
    }
   ],
   "source": [
    "all_functs = Funcs.__subclasses__()\n",
    "\n",
    "for i, j in data:\n",
    "    print(f\"f*({i}, {j})\")\n",
    "    for f in all_functs:\n",
    "        print(f()(i,j))"
   ]
  },
  {
   "cell_type": "markdown",
   "metadata": {
    "ExecuteTime": {
     "end_time": "2020-08-19T09:13:47.352754Z",
     "start_time": "2020-08-19T09:13:47.347496Z"
    },
    "hidden": true
   },
   "source": [
    "## Encore mieux"
   ]
  },
  {
   "cell_type": "code",
   "execution_count": 36,
   "metadata": {
    "ExecuteTime": {
     "end_time": "2020-08-19T09:13:26.458981Z",
     "start_time": "2020-08-19T09:13:26.442055Z"
    },
    "hidden": true
   },
   "outputs": [],
   "source": [
    "class Funcs2:\n",
    "    act: bool = True\n",
    "    \n",
    "    @classmethod\n",
    "    def get_all(cls):\n",
    "        return [reg() for reg in cls.__subclasses__() if reg.act]\n",
    "    \n",
    "    def __call__(self, *args, **kwargs):\n",
    "        raise NotImplementedError('Abstract class')\n",
    "\n",
    "\n",
    "class f1(Funcs2):\n",
    "    def __call__(self, x, y):\n",
    "        return x\n",
    "\n",
    "class f2(Funcs2):\n",
    "    def __call__(self, x, y):\n",
    "        return x + y\n",
    "\n",
    "\n",
    "class f3(Funcs2):\n",
    "    def __call__(self, x, y):\n",
    "        return x ** 2 + y ** 2\n",
    "\n",
    "\n",
    "class f4(Funcs2):\n",
    "    def __call__(self, x, y):\n",
    "        return (y + x) ** 2"
   ]
  },
  {
   "cell_type": "code",
   "execution_count": 39,
   "metadata": {
    "ExecuteTime": {
     "end_time": "2020-08-19T09:14:14.346425Z",
     "start_time": "2020-08-19T09:14:14.331533Z"
    },
    "hidden": true
   },
   "outputs": [
    {
     "name": "stdout",
     "output_type": "stream",
     "text": [
      "f*(1, 1)\n",
      "1\n",
      "2\n",
      "2\n",
      "4\n",
      "f*(2, 3)\n",
      "2\n",
      "5\n",
      "13\n",
      "25\n",
      "f*(5, 10)\n",
      "5\n",
      "15\n",
      "125\n",
      "225\n"
     ]
    }
   ],
   "source": [
    "all_functs = Funcs.__subclasses__()\n",
    "\n",
    "for i, j in data:\n",
    "    print(f\"f*({i}, {j})\")\n",
    "    for f in all_functs:\n",
    "        print(f()(i,j))"
   ]
  }
 ],
 "metadata": {
  "kernelspec": {
   "display_name": "Python 3",
   "language": "python",
   "name": "python3"
  },
  "language_info": {
   "codemirror_mode": {
    "name": "ipython",
    "version": 3
   },
   "file_extension": ".py",
   "mimetype": "text/x-python",
   "name": "python",
   "nbconvert_exporter": "python",
   "pygments_lexer": "ipython3",
   "version": "3.6.9"
  },
  "latex_envs": {
   "LaTeX_envs_menu_present": true,
   "autoclose": false,
   "autocomplete": true,
   "bibliofile": "biblio.bib",
   "cite_by": "apalike",
   "current_citInitial": 1,
   "eqLabelWithNumbers": true,
   "eqNumInitial": 1,
   "hotkeys": {
    "equation": "Ctrl-E",
    "itemize": "Ctrl-I"
   },
   "labels_anchors": false,
   "latex_user_defs": false,
   "report_style_numbering": false,
   "user_envs_cfg": false
  },
  "toc": {
   "base_numbering": 1,
   "nav_menu": {},
   "number_sections": true,
   "sideBar": true,
   "skip_h1_title": false,
   "title_cell": "Table of Contents",
   "title_sidebar": "Contents",
   "toc_cell": false,
   "toc_position": {},
   "toc_section_display": true,
   "toc_window_display": false
  },
  "varInspector": {
   "cols": {
    "lenName": 16,
    "lenType": 16,
    "lenVar": 40
   },
   "kernels_config": {
    "python": {
     "delete_cmd_postfix": "",
     "delete_cmd_prefix": "del ",
     "library": "var_list.py",
     "varRefreshCmd": "print(var_dic_list())"
    },
    "r": {
     "delete_cmd_postfix": ") ",
     "delete_cmd_prefix": "rm(",
     "library": "var_list.r",
     "varRefreshCmd": "cat(var_dic_list()) "
    }
   },
   "types_to_exclude": [
    "module",
    "function",
    "builtin_function_or_method",
    "instance",
    "_Feature"
   ],
   "window_display": false
  }
 },
 "nbformat": 4,
 "nbformat_minor": 4
}
