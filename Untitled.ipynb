{
 "cells": [
  {
   "cell_type": "markdown",
   "metadata": {},
   "source": [
    "# Init"
   ]
  },
  {
   "cell_type": "code",
   "execution_count": 2,
   "metadata": {
    "ExecuteTime": {
     "end_time": "2020-08-24T09:05:02.388424Z",
     "start_time": "2020-08-24T09:05:02.383282Z"
    }
   },
   "outputs": [
    {
     "data": {
      "text/html": [
       "<style>.container { width:90% !important; }</style>"
      ],
      "text/plain": [
       "<IPython.core.display.HTML object>"
      ]
     },
     "metadata": {},
     "output_type": "display_data"
    }
   ],
   "source": [
    "from IPython.core.display import display, HTML\n",
    "display(HTML(\"<style>.container { width:90% !important; }</style>\"))"
   ]
  },
  {
   "cell_type": "code",
   "execution_count": 4,
   "metadata": {
    "ExecuteTime": {
     "end_time": "2020-08-24T09:05:12.467679Z",
     "start_time": "2020-08-24T09:05:12.465651Z"
    }
   },
   "outputs": [],
   "source": [
    "def dec(func):\n",
    "    def wrapper(*args, **kwargs):\n",
    "        print()\n",
    "        return func(*args, **kwargs)\n",
    "    return wrapper"
   ]
  },
  {
   "cell_type": "markdown",
   "metadata": {},
   "source": [
    "# Introduction"
   ]
  },
  {
   "cell_type": "markdown",
   "metadata": {},
   "source": [
    " - La programmation orientée objet consiste en la définition et l'interaction de briques logicielles appelées objets.\n",
    " - Un objet représente un objet physique ou un concept / une idée.\n",
    " - Un objet possède une structure interne qui lui permet d'interagir avec ses pairs.\n",
    " - Les fonctionnalités ne sont pas codées en dur, elles découlent des objects.\n",
    " - L'étape de modélisation a importance majeure.\n",
    "\n",
    "\n",
    "Concrètement, un objet est une structure de données qui contient un ensemble d'attributs et de méthodes.\n",
    "L'ensemble des attributs forme ce que l'on appelle l'interface de l'objet; c'est seulement au travers de celle-ci que les objets interagissent entre eux.\n",
    "\n",
    "\n",
    "Certains attributs et méthodes sont cachés.\n",
    "Ainsi un object peut s'automodifier dans certaines conditions.\n",
    "\n",
    "\n",
    "Un exemple avec un objet représentant un nombre complexe :\n",
    " - Reperésentation :\n",
    "     * cartésienne\n",
    "     * trigonométrique\n",
    "     * exponentielle\n",
    "     * graphique\n",
    "     * ...\n",
    " - Calcul :\n",
    "     * `+ - * /`\n",
    "     * Img\n",
    "     * Re\n",
    "     * ...\n"
   ]
  },
  {
   "cell_type": "markdown",
   "metadata": {
    "heading_collapsed": true,
    "slideshow": {
     "slide_type": "slide"
    }
   },
   "source": [
    "# Un exemple simple"
   ]
  },
  {
   "cell_type": "markdown",
   "metadata": {
    "hidden": true
   },
   "source": [
    "## Defs"
   ]
  },
  {
   "cell_type": "code",
   "execution_count": null,
   "metadata": {
    "ExecuteTime": {
     "end_time": "2020-08-19T08:58:52.340025Z",
     "start_time": "2020-08-19T08:58:52.325836Z"
    },
    "hidden": true,
    "slideshow": {
     "slide_type": "subslide"
    }
   },
   "outputs": [],
   "source": [
    "@dec\n",
    "def goodbye(name):\n",
    "    print(f\"Goodbye {name}\")\n",
    "    print(f\"Bye bye {name}\")\n",
    "\n",
    "@dec\n",
    "def hello(name):\n",
    "    print(f\"Hello {name}\")\n",
    "    print(f\"Hi {name}\")\n",
    "\n",
    "@dec\n",
    "def display_age(name, age):\n",
    "    print(f'{name} is {age} years old.')\n",
    "\n",
    "@dec\n",
    "def birthday(name, age):\n",
    "    age += 1\n",
    "    print(f'Happy birthday {name} !')\n",
    "    print(f'You are now {age} years old.')\n",
    "\n",
    "@dec\n",
    "def log_in(name, password):\n",
    "    print(f'Login: {name}')\n",
    "    print(f'Password: {password}')\n",
    "\n",
    "@dec\n",
    "def log_out(name):\n",
    "    print(f'User {name} logged out.')"
   ]
  },
  {
   "cell_type": "markdown",
   "metadata": {
    "hidden": true
   },
   "source": [
    "## Utilisation"
   ]
  },
  {
   "cell_type": "code",
   "execution_count": null,
   "metadata": {
    "ExecuteTime": {
     "end_time": "2020-08-19T08:58:53.218334Z",
     "start_time": "2020-08-19T08:58:53.203308Z"
    },
    "hidden": true,
    "slideshow": {
     "slide_type": "slide"
    }
   },
   "outputs": [],
   "source": [
    "user1 = \"John\"\n",
    "john_age = 20\n",
    "john_pwd = \"abcd1234\"\n",
    "\n",
    "log_in(user1, john_pwd)\n",
    "hello(user1)\n",
    "display_age(user1, john_age)\n",
    "birthday(user1, john_age)\n",
    "display_age(user1, john_age)\n",
    "goodbye(user1)\n",
    "log_out(user1)"
   ]
  },
  {
   "cell_type": "code",
   "execution_count": null,
   "metadata": {
    "ExecuteTime": {
     "end_time": "2020-08-19T08:58:53.431982Z",
     "start_time": "2020-08-19T08:58:53.428342Z"
    },
    "hidden": true,
    "slideshow": {
     "slide_type": "slide"
    }
   },
   "outputs": [],
   "source": [
    "user2 = \"Kevin\"\n",
    "kevin_age = 15\n",
    "kevin_pwd = \"SecurePassword\""
   ]
  },
  {
   "cell_type": "markdown",
   "metadata": {
    "heading_collapsed": true,
    "slideshow": {
     "slide_type": "slide"
    }
   },
   "source": [
    "# Passage en classes"
   ]
  },
  {
   "cell_type": "markdown",
   "metadata": {
    "heading_collapsed": true,
    "hidden": true
   },
   "source": [
    "## Defs"
   ]
  },
  {
   "cell_type": "code",
   "execution_count": null,
   "metadata": {
    "ExecuteTime": {
     "end_time": "2020-08-19T08:58:54.132177Z",
     "start_time": "2020-08-19T08:58:54.117270Z"
    },
    "hidden": true,
    "slideshow": {
     "slide_type": "subslide"
    }
   },
   "outputs": [],
   "source": [
    "class BaseUser:\n",
    "    @dec\n",
    "    def hello(self):\n",
    "        print(f\"Hello {self.name}\")\n",
    "        print(f\"Hi {self.name}\")\n",
    "\n",
    "    @dec\n",
    "    def display_age(self):\n",
    "        print(f'{self.name} is {self.age} years old.')\n",
    "\n",
    "    @dec\n",
    "    def birthday(self):\n",
    "        self.age += 1\n",
    "        print(f'Happy birthday {self.name} !')\n",
    "        print(f'You are now {self.age} years old.')\n",
    "\n",
    "    @dec\n",
    "    def log_in(self, password):\n",
    "        print(f'Login: {self.name}')\n",
    "        print(f'Password: {password}')\n",
    "        \n",
    "    @dec\n",
    "    def goodbye(self):\n",
    "        print(f\"Goodbye {self.name}\")\n",
    "        print(f\"Bye bye {self.name}\")\n",
    "\n",
    "    @dec\n",
    "    def log_out(self):\n",
    "        print(f'User {self.name} logged out.')"
   ]
  },
  {
   "cell_type": "markdown",
   "metadata": {
    "hidden": true
   },
   "source": [
    "## Utilisation"
   ]
  },
  {
   "cell_type": "code",
   "execution_count": null,
   "metadata": {
    "ExecuteTime": {
     "end_time": "2020-08-19T08:58:54.565523Z",
     "start_time": "2020-08-19T08:58:54.560867Z"
    },
    "hidden": true,
    "slideshow": {
     "slide_type": "slide"
    }
   },
   "outputs": [],
   "source": [
    "john = BaseUser()\n",
    "john.name = \"John\"\n",
    "john.age = 20\n",
    "\n",
    "john_pwd = \"abcd1234\"\n",
    "\n",
    "john.log_in(john_pwd)\n",
    "john.hello()\n",
    "john.display_age()\n",
    "john.birthday()\n",
    "john.display_age()\n",
    "john.goodbye()\n",
    "john.log_out()"
   ]
  },
  {
   "cell_type": "code",
   "execution_count": null,
   "metadata": {
    "ExecuteTime": {
     "end_time": "2020-08-19T08:58:54.763640Z",
     "start_time": "2020-08-19T08:58:54.760885Z"
    },
    "hidden": true,
    "slideshow": {
     "slide_type": "slide"
    }
   },
   "outputs": [],
   "source": [
    "user2 = \"Kevin\"\n",
    "kevin_age = 15\n",
    "kevin_pwd = \"SecurePassword\""
   ]
  },
  {
   "cell_type": "markdown",
   "metadata": {
    "heading_collapsed": true,
    "slideshow": {
     "slide_type": "slide"
    }
   },
   "source": [
    "# Passage en classes (propre)"
   ]
  },
  {
   "cell_type": "markdown",
   "metadata": {
    "heading_collapsed": true,
    "hidden": true
   },
   "source": [
    "## Defs"
   ]
  },
  {
   "cell_type": "code",
   "execution_count": null,
   "metadata": {
    "ExecuteTime": {
     "end_time": "2020-08-19T08:58:55.965360Z",
     "start_time": "2020-08-19T08:58:55.956259Z"
    },
    "hidden": true,
    "slideshow": {
     "slide_type": "subslide"
    }
   },
   "outputs": [],
   "source": [
    "CURRENT_YEAR = 2020\n",
    "\n",
    "def get_age(birth_year):\n",
    "    return CURRENT_YEAR - birth_year\n",
    "\n",
    "\n",
    "class User(BaseUser):\n",
    "    def __init__(self, name, birth_year):\n",
    "        self.name = name\n",
    "        self.age = get_age(birth_year)\n"
   ]
  },
  {
   "cell_type": "markdown",
   "metadata": {
    "heading_collapsed": true,
    "hidden": true
   },
   "source": [
    "## Utilisation"
   ]
  },
  {
   "cell_type": "code",
   "execution_count": null,
   "metadata": {
    "ExecuteTime": {
     "end_time": "2020-08-19T08:58:56.543892Z",
     "start_time": "2020-08-19T08:58:56.532922Z"
    },
    "hidden": true,
    "slideshow": {
     "slide_type": "slide"
    }
   },
   "outputs": [],
   "source": [
    "john = User(\"John\", 2000)\n",
    "\n",
    "john_pwd = \"abcd1234\"\n",
    "\n",
    "john.log_in(john_pwd)\n",
    "john.hello()\n",
    "john.display_age()\n",
    "john.birthday()\n",
    "john.display_age()\n",
    "john.goodbye()\n",
    "john.log_out()"
   ]
  },
  {
   "cell_type": "code",
   "execution_count": null,
   "metadata": {
    "ExecuteTime": {
     "end_time": "2020-08-19T08:58:56.759361Z",
     "start_time": "2020-08-19T08:58:56.752733Z"
    },
    "hidden": true,
    "slideshow": {
     "slide_type": "slide"
    }
   },
   "outputs": [],
   "source": [
    "user2 = \"Kevin\"\n",
    "kevin_age = 15\n",
    "kevin_pwd = \"SecurePassword\""
   ]
  },
  {
   "cell_type": "markdown",
   "metadata": {
    "heading_collapsed": true,
    "slideshow": {
     "slide_type": "slide"
    }
   },
   "source": [
    "# Encore mieux !"
   ]
  },
  {
   "cell_type": "markdown",
   "metadata": {
    "hidden": true
   },
   "source": [
    "## Defs"
   ]
  },
  {
   "cell_type": "code",
   "execution_count": null,
   "metadata": {
    "ExecuteTime": {
     "end_time": "2020-08-19T08:58:57.842866Z",
     "start_time": "2020-08-19T08:58:57.829020Z"
    },
    "hidden": true,
    "slideshow": {
     "slide_type": "subslide"
    }
   },
   "outputs": [],
   "source": [
    "class BetterUser(User):\n",
    "    \n",
    "    def log_in(self, *agrs, **kwargs):\n",
    "        super().log_in(*agrs, **kwargs)\n",
    "        self.hello()\n",
    "    \n",
    "    def log_out(self, *agrs, **kwargs):\n",
    "        super().log_out(*agrs, **kwargs)\n",
    "        self.goodbye()\n",
    "   \n",
    "    def __enter__(self):\n",
    "        if hasattr(self, \"password\"):\n",
    "            pwd = self.password\n",
    "        else:\n",
    "            pwd = input(\"Password ?\")\n",
    "        self.log_in(pwd)\n",
    "        return self\n",
    "    \n",
    "    def __exit__(self, *args, **kwargs):\n",
    "        self.log_out()"
   ]
  },
  {
   "cell_type": "markdown",
   "metadata": {
    "hidden": true
   },
   "source": [
    "## Utilisation"
   ]
  },
  {
   "cell_type": "code",
   "execution_count": null,
   "metadata": {
    "ExecuteTime": {
     "end_time": "2020-08-19T08:58:59.248948Z",
     "start_time": "2020-08-19T08:58:59.044734Z"
    },
    "hidden": true,
    "slideshow": {
     "slide_type": "slide"
    }
   },
   "outputs": [],
   "source": [
    "john = BetterUser(\"John\", 2000)\n",
    "\n",
    "john_pwd = \"abcd1234\"\n",
    "\n",
    "with john:\n",
    "    john.display_age()\n",
    "    john.birthday()\n",
    "    john.display_age()"
   ]
  },
  {
   "cell_type": "markdown",
   "metadata": {
    "heading_collapsed": true,
    "slideshow": {
     "slide_type": "slide"
    }
   },
   "source": [
    "# Exemple plus complexe"
   ]
  },
  {
   "cell_type": "markdown",
   "metadata": {
    "hidden": true
   },
   "source": [
    "## Probleme\n",
    "\n",
    "On a de nombreuses fonctions et on veut les faire tourner sur les mêmes données."
   ]
  },
  {
   "cell_type": "code",
   "execution_count": null,
   "metadata": {
    "ExecuteTime": {
     "end_time": "2020-08-19T08:58:59.915207Z",
     "start_time": "2020-08-19T08:58:59.908730Z"
    },
    "hidden": true
   },
   "outputs": [],
   "source": [
    "data = [[1, 1], [2, 3], [5, 10]]"
   ]
  },
  {
   "cell_type": "code",
   "execution_count": null,
   "metadata": {
    "ExecuteTime": {
     "end_time": "2020-08-19T08:59:00.121558Z",
     "start_time": "2020-08-19T08:59:00.117867Z"
    },
    "hidden": true
   },
   "outputs": [],
   "source": [
    "def f1(x, y):\n",
    "    return x\n",
    "\n",
    "def f2(x, y):\n",
    "    return x + y\n",
    "\n",
    "\n",
    "def f3(x, y):\n",
    "    return x ** 2 + y ** 2\n",
    "\n",
    "\n",
    "def f4(x, y):\n",
    "    return (y + x) ** 2"
   ]
  },
  {
   "cell_type": "markdown",
   "metadata": {
    "hidden": true
   },
   "source": [
    "### La pire maniere"
   ]
  },
  {
   "cell_type": "code",
   "execution_count": null,
   "metadata": {
    "ExecuteTime": {
     "end_time": "2020-08-19T08:59:00.603423Z",
     "start_time": "2020-08-19T08:59:00.590009Z"
    },
    "hidden": true
   },
   "outputs": [],
   "source": [
    "for i, j in data:\n",
    "    print(f\"f*({i}, {j})\")\n",
    "    print(f1(i, j))\n",
    "    print(f2(i, j))\n",
    "    print(f3(i, j))\n",
    "    print(f4(i, j))"
   ]
  },
  {
   "cell_type": "markdown",
   "metadata": {
    "hidden": true
   },
   "source": [
    "### Utiliser une liste"
   ]
  },
  {
   "cell_type": "code",
   "execution_count": null,
   "metadata": {
    "ExecuteTime": {
     "end_time": "2020-08-19T08:59:02.270492Z",
     "start_time": "2020-08-19T08:59:02.260766Z"
    },
    "hidden": true
   },
   "outputs": [],
   "source": [
    "all_functs = [...]\n",
    "\n",
    "for i, j in data:\n",
    "    print(f\"f*({i}, {j})\")\n",
    "    for f in all_functs:\n",
    "        ..."
   ]
  },
  {
   "cell_type": "markdown",
   "metadata": {
    "hidden": true
   },
   "source": [
    "## En classes"
   ]
  },
  {
   "cell_type": "code",
   "execution_count": null,
   "metadata": {
    "ExecuteTime": {
     "end_time": "2020-08-19T09:13:01.408556Z",
     "start_time": "2020-08-19T09:13:01.394867Z"
    },
    "hidden": true,
    "slideshow": {
     "slide_type": "subslide"
    }
   },
   "outputs": [],
   "source": [
    "class Funcs:\n",
    "    pass\n",
    "\n",
    "class f1(Funcs):\n",
    "    def __call__(self, x, y):\n",
    "        return x\n",
    "\n",
    "class f2(Funcs):\n",
    "    def __call__(self, x, y):\n",
    "        return x + y\n",
    "\n",
    "\n",
    "class f3(Funcs):\n",
    "    def __call__(self, x, y):\n",
    "        return x ** 2 + y ** 2\n",
    "\n",
    "\n",
    "class f4(Funcs):\n",
    "    def __call__(self, x, y):\n",
    "        return (y + x) ** 2"
   ]
  },
  {
   "cell_type": "code",
   "execution_count": null,
   "metadata": {
    "ExecuteTime": {
     "end_time": "2020-08-19T09:13:36.324578Z",
     "start_time": "2020-08-19T09:13:36.311591Z"
    },
    "hidden": true
   },
   "outputs": [],
   "source": [
    "all_functs = Funcs.__subclasses__()\n",
    "\n",
    "for i, j in data:\n",
    "    print(f\"f*({i}, {j})\")\n",
    "    for f in all_functs:\n",
    "        print(f()(i,j))"
   ]
  },
  {
   "cell_type": "markdown",
   "metadata": {
    "ExecuteTime": {
     "end_time": "2020-08-19T09:13:47.352754Z",
     "start_time": "2020-08-19T09:13:47.347496Z"
    },
    "hidden": true
   },
   "source": [
    "## Encore mieux"
   ]
  },
  {
   "cell_type": "code",
   "execution_count": null,
   "metadata": {
    "ExecuteTime": {
     "end_time": "2020-08-19T09:13:26.458981Z",
     "start_time": "2020-08-19T09:13:26.442055Z"
    },
    "hidden": true
   },
   "outputs": [],
   "source": [
    "class Funcs2:\n",
    "    act: bool = True\n",
    "    \n",
    "    @classmethod\n",
    "    def get_all(cls):\n",
    "        return [reg() for reg in cls.__subclasses__() if reg.act]\n",
    "    \n",
    "    def __call__(self, *args, **kwargs):\n",
    "        raise NotImplementedError('Abstract class')\n",
    "\n",
    "\n",
    "class f1(Funcs2):\n",
    "    def __call__(self, x, y):\n",
    "        return x\n",
    "\n",
    "class f2(Funcs2):\n",
    "    def __call__(self, x, y):\n",
    "        return x + y\n",
    "\n",
    "\n",
    "class f3(Funcs2):\n",
    "    def __call__(self, x, y):\n",
    "        return x ** 2 + y ** 2\n",
    "\n",
    "\n",
    "class f4(Funcs2):\n",
    "    def __call__(self, x, y):\n",
    "        return (y + x) ** 2"
   ]
  },
  {
   "cell_type": "code",
   "execution_count": null,
   "metadata": {
    "ExecuteTime": {
     "end_time": "2020-08-19T09:16:03.631074Z",
     "start_time": "2020-08-19T09:16:03.618978Z"
    },
    "hidden": true
   },
   "outputs": [],
   "source": [
    "all_functs = Funcs.__subclasses__()\n",
    "\n",
    "for i, j in data:\n",
    "    print(f\"f*({i}, {j})\")\n",
    "    for f in all_functs:\n",
    "        print(f()(i,j))"
   ]
  },
  {
   "cell_type": "markdown",
   "metadata": {
    "ExecuteTime": {
     "end_time": "2020-08-19T09:16:13.012634Z",
     "start_time": "2020-08-19T09:16:13.007261Z"
    },
    "heading_collapsed": true
   },
   "source": [
    "# Exemple réel"
   ]
  },
  {
   "cell_type": "code",
   "execution_count": 20,
   "metadata": {
    "ExecuteTime": {
     "end_time": "2020-08-19T09:57:40.288882Z",
     "start_time": "2020-08-19T09:57:40.160039Z"
    },
    "hidden": true
   },
   "outputs": [
    {
     "name": "stdout",
     "output_type": "stream",
     "text": [
      "192.168.10.36\r\n",
      "192.168.10.34\r\n",
      "192.168.80.1\r\n"
     ]
    }
   ],
   "source": [
    "!ip addr | grep \"inet 192\" | cut -d\"/\" -f 1 | cut -b10-"
   ]
  },
  {
   "cell_type": "code",
   "execution_count": 10,
   "metadata": {
    "ExecuteTime": {
     "end_time": "2020-08-19T09:46:10.690582Z",
     "start_time": "2020-08-19T09:46:10.684980Z"
    },
    "hidden": true
   },
   "outputs": [],
   "source": [
    "host = \"192.168.10.36\""
   ]
  },
  {
   "cell_type": "code",
   "execution_count": 11,
   "metadata": {
    "ExecuteTime": {
     "end_time": "2020-08-19T09:46:11.976915Z",
     "start_time": "2020-08-19T09:46:11.900219Z"
    },
    "hidden": true
   },
   "outputs": [],
   "source": [
    "from flask import Flask\n",
    "from flask_restful import Api, Resource"
   ]
  },
  {
   "cell_type": "code",
   "execution_count": 14,
   "metadata": {
    "ExecuteTime": {
     "end_time": "2020-08-19T09:50:00.655925Z",
     "start_time": "2020-08-19T09:50:00.638055Z"
    },
    "hidden": true
   },
   "outputs": [],
   "source": [
    "class API(Resource):\n",
    "    \"\"\"\n",
    "    Abstract API class to overload.\n",
    "    \"\"\"\n",
    "\n",
    "    @property\n",
    "    def items(self):\n",
    "        \"\"\"\n",
    "        Return available items.\n",
    "        \"\"\"\n",
    "        raise NotImplementedError\n",
    "\n",
    "    def get_item(self, item):\n",
    "        \"\"\"\n",
    "        Return the item.\n",
    "        \"\"\"\n",
    "        raise NotImplementedError\n",
    "\n",
    "    def available(self, item) -> bool:\n",
    "        \"\"\"\n",
    "        Check if an item is available.\n",
    "        \"\"\"\n",
    "        return item in self.items\n",
    "\n",
    "    def get(self, item: str = \"\"):\n",
    "        \"\"\"\n",
    "        Test if there is an item and if it is available, return the item, else return the items list\n",
    "        \"\"\"\n",
    "        if item:\n",
    "            if self.available(item):\n",
    "                try:\n",
    "                    return self.get_item(item)\n",
    "                except Exception:  # pylint: disable=broad-except\n",
    "                    return \"The resource you attempt to get is not available.\", 400\n",
    "            else:\n",
    "                return \"The resource you attempt to get is not available.\", 400\n",
    "        else:\n",
    "            return list(self.items)\n",
    "\n",
    "\n",
    "class DictWatcher(API):\n",
    "    dic: dict\n",
    "    \n",
    "\n",
    "    @property\n",
    "    def items(self):\n",
    "        \"\"\"\n",
    "        Return available items.\n",
    "        \"\"\"\n",
    "        return self.dic.keys()\n",
    "\n",
    "    def get_item(self, item):\n",
    "        \"\"\"\n",
    "        Return the item.\n",
    "        \"\"\"\n",
    "        return self.dic[item]\n"
   ]
  },
  {
   "cell_type": "code",
   "execution_count": 21,
   "metadata": {
    "ExecuteTime": {
     "end_time": "2020-08-19T09:58:58.356600Z",
     "start_time": "2020-08-19T09:58:41.650824Z"
    },
    "hidden": true
   },
   "outputs": [
    {
     "name": "stdout",
     "output_type": "stream",
     "text": [
      " * Serving Flask app \"__main__\" (lazy loading)\n",
      " * Environment: production\n",
      "\u001b[31m   WARNING: This is a development server. Do not use it in a production deployment.\u001b[0m\n",
      "\u001b[2m   Use a production WSGI server instead.\u001b[0m\n",
      " * Debug mode: off\n"
     ]
    },
    {
     "name": "stderr",
     "output_type": "stream",
     "text": [
      " * Running on http://192.168.10.36:5000/ (Press CTRL+C to quit)\n",
      "192.168.10.36 - - [19/Aug/2020 11:58:45] \"\u001b[37mGET / HTTP/1.1\u001b[0m\" 200 -\n",
      "192.168.10.36 - - [19/Aug/2020 11:58:50] \"\u001b[37mGET /c HTTP/1.1\u001b[0m\" 200 -\n"
     ]
    }
   ],
   "source": [
    "app = Flask(__name__)\n",
    "api = Api(app)\n",
    "\n",
    "class Dico(DictWatcher):\n",
    "    dic = {\n",
    "        \"a\": 1,\n",
    "        \"b\": 2,\n",
    "        \"c\": {\"k1\": 15},\n",
    "    }\n",
    "\n",
    "\n",
    "api.add_resource(Dico, f\"/<item>\", f\"/\")\n",
    "\n",
    "app.run(host=host)"
   ]
  },
  {
   "cell_type": "markdown",
   "metadata": {
    "ExecuteTime": {
     "end_time": "2020-08-24T06:28:18.596136Z",
     "start_time": "2020-08-24T06:28:18.594418Z"
    },
    "heading_collapsed": true
   },
   "source": [
    "# Les magics methods"
   ]
  },
  {
   "cell_type": "markdown",
   "metadata": {
    "hidden": true
   },
   "source": [
    "Ici `x` est une instance de la classe `C`.\\\n",
    "`y` est une instance quelconques."
   ]
  },
  {
   "cell_type": "markdown",
   "metadata": {
    "hidden": true
   },
   "source": [
    "## Initialization\n",
    "\n",
    " - `__new__`: Called before `__init__`. return an instance of the class.\n",
    " - `__init__`: The initializer for the class.\n",
    " - `__del__`: Called when an object is garbage collected. May not be called on crash.\n"
   ]
  },
  {
   "cell_type": "markdown",
   "metadata": {
    "hidden": true
   },
   "source": [
    "## Comparison\n",
    "\n",
    " - `__eq__`: Implement ==.\n",
    " - `__ne__`: Implement !=.\n",
    " - `__lt__`: Implement <.\n",
    " - `__gt__`: Implement >.\n",
    " - `__le__`: Implement <=.\n",
    " - `__ge__`: Implement >=.\n"
   ]
  },
  {
   "cell_type": "markdown",
   "metadata": {
    "hidden": true
   },
   "source": [
    "## Numeric\n",
    "\n",
    "### Unary operators\n",
    "\n",
    " - `__pos__` : Implements `+x`\n",
    " - `__neg__` : Implements `-x`\n",
    " - `__abs__` : Implements `abs(x)`\n",
    " - `__invert__` : Implements `~x`\n",
    " - `__round__` : Implements `round(x, n)`\n",
    " - `__floor__` : Implements `math.floor(x)`\n",
    " - `__ceil__` : Implements `math.ceil(x)`\n",
    " - `__trunc__` : Implements `math.trunc(x)`\n",
    "\n",
    "### Normal operators\n",
    "\n",
    " - `__add__` : Implements `x` + `y`\n",
    " - `__sub__` : Implements `x` - `y`\n",
    " - `__mul__` : Implements `x` * `y`\n",
    " - `__truediv__` : Implements `x` / `y`\n",
    " - `__floordiv__` : Implements `x` // `y`\n",
    " - `__divmod__` : Implements divmod(`x`, `y`)\n",
    " - `__mod__` : Implements `x` % `y`\n",
    " - `__pow__` : Implements `x` ** `y`\n",
    " - `__lshift__` : Implements `x` << `y`\n",
    " - `__rshift__` : Implements `x` >> `y`\n",
    " - `__and__` : Implements `x` & `y`\n",
    " - `__or__` : Implements `x` | `y`\n",
    " - `__xor__` : Implements `x` ^ `y`\n",
    "\n",
    "### Reflected operators\n",
    "\n",
    " - `__radd__` : Implements `y` + `x`\n",
    " - `__rsub__` : Implements `y` - `x`\n",
    " - `__rmul__` : Implements `y` * `x`\n",
    " - `__rtruediv__` : Implements `y` / `x`\n",
    " - `__rfloordiv__` : Implements `y` // `x`\n",
    " - `__rdivmod__` : Implements divmod(`y`, `x`)\n",
    " - `__rmod__` : Implements `y` % `x`\n",
    " - `__rpow__` : Implements `y` ** `x`\n",
    " - `__rlshift__` : Implements `y` << `x`\n",
    " - `__rrshift__` : Implements `y` >> `x`\n",
    " - `__rand__` : Implements `y` & `x`\n",
    " - `__ror__` : Implements `y` | `x`\n",
    " - `__rxor__` : Implements `y` ^ `x`\n",
    "\n",
    "### Augmented assignment\n",
    "\n",
    " - `__iadd__` : Implements `x` += `y`\n",
    " - `__isub__` : Implements `x` -= `y`\n",
    " - `__imul__` : Implements `x` *= `y`\n",
    " - `__itruediv__` : Implements `x` /= `y`\n",
    " - `__ifloordiv__` : Implements `x` //= `y`\n",
    " - `__imod__` : Implements `x` %= `y`\n",
    " - `__ipow__` : Implements `x` **= `y`\n",
    " - `__ilshift__` : Implements `x` <<= `y`\n",
    " - `__irshift__` : Implements `x` >>= `y`\n",
    " - `__iand__` : Implements `x` &= `y`\n",
    " - `__ior__` : Implements `x` |= `y`\n",
    " - `__ixor__` : Implements `x` ^= `y`\n"
   ]
  },
  {
   "cell_type": "markdown",
   "metadata": {
    "hidden": true
   },
   "source": [
    "### Type conversion\n",
    "\n",
    " - `__int__` : Implements `int(x)`\n",
    " - `__long__` : Implements `long(x)`\n",
    " - `__float__` : Implements `float(x)`\n",
    " - `__complex__` : Implements `complex(x)`\n",
    " - `__oct__` : Implements type `oct(x)`\n",
    " - `__hex__` : Implements type `hex(x)`\n",
    " - `__trunc__` : Implements `math.trunc(x)`\n"
   ]
  },
  {
   "cell_type": "markdown",
   "metadata": {
    "hidden": true
   },
   "source": [
    "### Representing your Classes\n",
    "\n",
    "- `__str__`: Implement `str(x)` (user view)\n",
    "- `__repr__`: Implement `repr(x)` (dev view)\n",
    "- `__hash__`: Implement `hash(x)`\n",
    "- `__format__`: Defines formatting behavior : `f\"Hello, {x:abc}!\"` call `x.__format__(\"abc\")`\n"
   ]
  },
  {
   "cell_type": "markdown",
   "metadata": {
    "hidden": true
   },
   "source": [
    "### Attribute Access\n",
    "\n",
    "- `__getattribute__` : Implement `getattr(x, a)`\n",
    "- `__setattr__` : Implement `setattr(x, a, b)`\n",
    "- `__delattr__` : Implement `del x.a` (use with caution)\n",
    "- `__getattr__` : Define behavior when a user access an attribute that doesn't exist.\n"
   ]
  },
  {
   "cell_type": "markdown",
   "metadata": {
    "hidden": true
   },
   "source": [
    "### Dict or list methods\n",
    "\n",
    " - `__len__` : Implement `len(x)`\n",
    " - `__contains__` : Implement `a in x`\n",
    " - `__iter__` :  Implement `iter(x)`\n",
    " - `__reversed__` : Implement `reversed(x)`\n",
    " - `__getitem__` : Implement `x[a]`\n",
    " - `__setitem__` : Implement `x[a] = b`\n",
    " - `__delitem__` : Implement `del x[a]`\n",
    " - `__missing__` : Defines behavior when a not existing key is accessed.\n"
   ]
  },
  {
   "cell_type": "markdown",
   "metadata": {
    "hidden": true
   },
   "source": [
    "### Check\n",
    "\n",
    " - `__instancecheck__`: Implement `isinstance(x, A)`\n",
    " - `__subclasscheck__`: Implement `issubclass(C, A)`\n"
   ]
  },
  {
   "cell_type": "markdown",
   "metadata": {
    "hidden": true
   },
   "source": [
    "### Call\n",
    "\n",
    " - `__call__`: Implement `x(...)`\n"
   ]
  },
  {
   "cell_type": "markdown",
   "metadata": {
    "hidden": true
   },
   "source": [
    "### Context Managers\n",
    "\n",
    " - `__enter__` : Behavior on with enter.\n",
    " - `__exit__` : Behavior on with exit.\n"
   ]
  },
  {
   "cell_type": "markdown",
   "metadata": {
    "hidden": true
   },
   "source": [
    "### Copy\n",
    "\n",
    " - `__copy__` : Implement `copy.copy(x)`\n",
    " - `__deepcopy__` : Implement `copy.deepcopy(x)`\n"
   ]
  },
  {
   "cell_type": "code",
   "execution_count": null,
   "metadata": {
    "hidden": true
   },
   "outputs": [],
   "source": []
  }
 ],
 "metadata": {
  "kernelspec": {
   "display_name": "Python 3",
   "language": "python",
   "name": "python3"
  },
  "language_info": {
   "codemirror_mode": {
    "name": "ipython",
    "version": 3
   },
   "file_extension": ".py",
   "mimetype": "text/x-python",
   "name": "python",
   "nbconvert_exporter": "python",
   "pygments_lexer": "ipython3",
   "version": "3.6.9"
  },
  "latex_envs": {
   "LaTeX_envs_menu_present": true,
   "autoclose": false,
   "autocomplete": true,
   "bibliofile": "biblio.bib",
   "cite_by": "apalike",
   "current_citInitial": 1,
   "eqLabelWithNumbers": true,
   "eqNumInitial": 1,
   "hotkeys": {
    "equation": "Ctrl-E",
    "itemize": "Ctrl-I"
   },
   "labels_anchors": false,
   "latex_user_defs": false,
   "report_style_numbering": false,
   "user_envs_cfg": false
  },
  "toc": {
   "base_numbering": 1,
   "nav_menu": {},
   "number_sections": true,
   "sideBar": true,
   "skip_h1_title": false,
   "title_cell": "Table of Contents",
   "title_sidebar": "Contents",
   "toc_cell": false,
   "toc_position": {},
   "toc_section_display": true,
   "toc_window_display": false
  },
  "varInspector": {
   "cols": {
    "lenName": 16,
    "lenType": 16,
    "lenVar": 40
   },
   "kernels_config": {
    "python": {
     "delete_cmd_postfix": "",
     "delete_cmd_prefix": "del ",
     "library": "var_list.py",
     "varRefreshCmd": "print(var_dic_list())"
    },
    "r": {
     "delete_cmd_postfix": ") ",
     "delete_cmd_prefix": "rm(",
     "library": "var_list.r",
     "varRefreshCmd": "cat(var_dic_list()) "
    }
   },
   "types_to_exclude": [
    "module",
    "function",
    "builtin_function_or_method",
    "instance",
    "_Feature"
   ],
   "window_display": false
  }
 },
 "nbformat": 4,
 "nbformat_minor": 4
}
